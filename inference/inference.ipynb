{
 "cells": [
  {
   "cell_type": "markdown",
   "metadata": {},
   "source": [
    "# API calls"
   ]
  },
  {
   "cell_type": "markdown",
   "metadata": {},
   "source": [
    "## OpenAI"
   ]
  },
  {
   "cell_type": "code",
   "execution_count": 12,
   "metadata": {},
   "outputs": [
    {
     "name": "stdout",
     "output_type": "stream",
     "text": [
      "Certainly! Let's break down quantum computing into simpler terms:\n",
      "\n",
      "1. **Classical vs. Quantum:** Traditional computers, like the one you might be using right now, use bits as the smallest unit of data. Each bit can be a 0 or a 1. Quantum computers, on the other hand, use quantum bits, or qubits. Qubits can be both 0 and 1 at the same time, thanks to a property called superposition.\n",
      "\n",
      "2. **Superposition:** Imagine a classical bit as a light switch that can either be off (0) or on (1). A qubit is more like a dimmer switch that can be in the off position, the on position, or anywhere in between. In fact, it can be both off and on simultaneously until it's measured.\n",
      "\n",
      "3. **Entanglement:** This is another key concept in quantum computing. When qubits become entangled, the state of one qubit becomes linked with the state of another, no matter how far apart they are. This means the state of one qubit can depend on the state of another, allowing them to work together in complex ways.\n",
      "\n",
      "4. **Interference:** Quantum computers use interference to amplify the probabilities of correct answers and cancel out the wrong ones. This is similar to how waves can amplify or cancel each other out.\n",
      "\n",
      "5. **Parallelism:** Because of superposition, a quantum computer can process a vast number of possibilities simultaneously. This makes them potentially much more powerful than classical computers for certain tasks, like factoring large numbers, searching databases, and simulating molecules.\n",
      "\n",
      "6. **Applications:** While quantum computers aren't yet widely used, they hold promise for solving specific problems much faster than classical computers. Examples include drug discovery, cryptography, and optimization problems.\n",
      "\n",
      "In summary, quantum computing leverages the strange and fascinating principles of quantum mechanics to process information in fundamentally new ways, potentially solving complex problems that are currently beyond the reach of classical computers.\n"
     ]
    }
   ],
   "source": [
    "import os\n",
    "from openai import OpenAI\n",
    "from dotenv import load_dotenv\n",
    "\n",
    "# Load environment variables from .env file\n",
    "load_dotenv()\n",
    "\n",
    "# Initialize the OpenAI client\n",
    "client = OpenAI(\n",
    "    # This will use the OPENAI_API_KEY environment variable from .env\n",
    "    api_key=os.getenv(\"OPENAI_API_KEY\"),\n",
    ")\n",
    "\n",
    "# Example function to make API calls to OpenAI\n",
    "def get_openai_response(prompt, model=\"gpt-3.5-turbo\", max_tokens=500):\n",
    "    try:\n",
    "        response = client.chat.completions.create(\n",
    "            model=model,\n",
    "            messages=[\n",
    "                {\"role\": \"system\", \"content\": \"You are a helpful assistant.\"},\n",
    "                {\"role\": \"user\", \"content\": prompt}\n",
    "            ],\n",
    "            max_tokens=max_tokens,\n",
    "            temperature=0.7,\n",
    "        )\n",
    "        return response.choices[0].message.content\n",
    "    except Exception as e:\n",
    "        return f\"Error: {str(e)}\"\n",
    "\n",
    "\n",
    "model = \"gpt-4o\"\n",
    "sample_prompt = \"Explain quantum computing in simple terms.\"\n",
    "\n",
    "response = get_openai_response(sample_prompt, model)\n",
    "print(response)"
   ]
  },
  {
   "cell_type": "markdown",
   "metadata": {},
   "source": [
    "## Azure OpenAI"
   ]
  },
  {
   "cell_type": "markdown",
   "metadata": {},
   "source": [
    "### OpenAI Azure SDK"
   ]
  },
  {
   "cell_type": "markdown",
   "metadata": {},
   "source": [
    "Basic sample"
   ]
  },
  {
   "cell_type": "code",
   "execution_count": null,
   "metadata": {},
   "outputs": [],
   "source": [
    "from openai import AzureOpenAI\n",
    "\n",
    "# Initialize the Azure OpenAI client\n",
    "azure_client = AzureOpenAI(\n",
    "    # These will use environment variables from .env\n",
    "    api_key=os.getenv(\"AZURE_OPENAI_API_KEY\"),\n",
    "    azure_endpoint=os.getenv(\"AZURE_OPENAI_ENDPOINT\"),\n",
    "    api_version=os.getenv(\"AZURE_OPENAI_API_VERSION\"),\n",
    ")\n",
    "\n",
    "# Function to make API calls to Azure OpenAI\n",
    "def get_azure_openai_response(prompt, deployment_name, max_tokens=500):\n",
    "    \"\"\"\n",
    "    Get a response from Azure OpenAI API\n",
    "    \n",
    "    Args:\n",
    "        prompt (str): The user's input prompt\n",
    "        deployment_name (str): The deployment name of the model in Azure\n",
    "        max_tokens (int): Maximum number of tokens in the response\n",
    "        \n",
    "    Returns:\n",
    "        str: The model's response\n",
    "    \"\"\"\n",
    "    try:\n",
    "        response = azure_client.chat.completions.create(\n",
    "            model=deployment_name,  # Use the deployment name here\n",
    "            messages=[\n",
    "                {\"role\": \"system\", \"content\": \"You are a helpful assistant.\"},\n",
    "                {\"role\": \"user\", \"content\": prompt}\n",
    "            ],\n",
    "            max_tokens=max_tokens,\n",
    "            temperature=0.7,\n",
    "        )\n",
    "        return response.choices[0].message.content\n",
    "    except Exception as e:\n",
    "        return f\"Error: {str(e)}\"\n",
    "\n",
    "# Example usage\n",
    "azure_deployment_name = os.getenv(\"AZURE_OPENAI_DEPLOYMENT_NAME\")\n",
    "azure_sample_prompt = \"Explain quantum computing in simple terms.\"\n",
    "azure_response = get_azure_openai_response(azure_sample_prompt, azure_deployment_name)\n",
    "print(azure_response)\n"
   ]
  },
  {
   "cell_type": "markdown",
   "metadata": {},
   "source": [
    "Multi-turn"
   ]
  },
  {
   "cell_type": "code",
   "execution_count": 5,
   "metadata": {},
   "outputs": [
    {
     "name": "stdout",
     "output_type": "stream",
     "text": [
      "The Eiffel Tower, or La Tour Eiffel, is an iconic symbol of Paris and France as a whole, and there are several reasons why it is considered a must-see attraction:\n",
      "\n",
      "1. **Iconic Design**: Designed by Gustave Eiffel for the 1889 Exposition Universelle (World's Fair), the tower's intricate iron lattice structure is a masterpiece of engineering and design. Its unique silhouette makes it instantly recognizable and a beloved emblem of Paris.\n",
      "\n",
      "2. **Historical Significance**: Originally criticized by some of Paris' artists and intellectuals, the Eiffel Tower has become a cherished part of the city's identity. It represents the spirit of innovation and progress during the Industrial Revolution.\n",
      "\n",
      "3. **Panoramic Views**: Visitors can ascend the tower to different levels (the second floor and the summit) to enjoy breathtaking panoramic views of Paris. On a clear day, you can see landmarks such as the Sacré-Cœur, the Seine River, and beyond.\n",
      "\n",
      "4. **Illuminations**: At night, the Eiffel Tower is illuminated with thousands of lights, creating a magical ambiance. It sparkles for five minutes at the beginning of each hour, making for a breathtaking sight.\n",
      "\n",
      "5. **Cultural Events**: The tower often hosts cultural events, exhibitions, and celebrations, including fireworks on Bastille Day, enhancing its role as a vibrant part of Parisian culture.\n",
      "\n",
      "6. **Accessibility**: The Eiffel Tower is easily accessible and is surrounded by beautiful gardens and fountains in the Champ de Mars area, providing a lovely place to relax or have a picnic.\n",
      "\n",
      "7. **Romantic Atmosphere**: The Eiffel Tower exudes romance, making it a popular spot for couples and proposals. It’s often featured in films and literature as a symbol of love.\n",
      "\n",
      "Whether you take the elevator to the top, enjoy a meal at one of its restaurants, or simply admire it from the ground, the Eiffel Tower is an unforgettable experience and one of the highlights of visiting Paris.\n"
     ]
    }
   ],
   "source": [
    "import os\n",
    "from openai import AzureOpenAI\n",
    "\n",
    "# Use environment variables from .env\n",
    "azure_endpoint = os.getenv(\"AZURE_OPENAI_ENDPOINT\")\n",
    "deployment = os.getenv(\"AZURE_OPENAI_DEPLOYMENT_NAME\")\n",
    "api_key = os.getenv(\"AZURE_OPENAI_API_KEY\")\n",
    "api_version = os.getenv(\"AZURE_OPENAI_API_VERSION\")\n",
    "\n",
    "client = AzureOpenAI(\n",
    "    api_version=api_version,\n",
    "    azure_endpoint=azure_endpoint,\n",
    "    api_key=api_key,\n",
    ")\n",
    "\n",
    "response = client.chat.completions.create(\n",
    "    messages=[\n",
    "        {\n",
    "            \"role\": \"system\",\n",
    "            \"content\": \"You are a helpful assistant.\",\n",
    "        },\n",
    "        {\n",
    "            \"role\": \"user\",\n",
    "            \"content\": \"I am going to Paris, what should I see?\",\n",
    "        },\n",
    "        {\n",
    "            \"role\": \"assistant\",\n",
    "            \"content\": \"Paris, the capital of France, is known for its stunning architecture, art museums, historical landmarks, and romantic atmosphere. Here are some of the top attractions to see in Paris:\\n \\n 1. The Eiffel Tower: The iconic Eiffel Tower is one of the most recognizable landmarks in the world and offers breathtaking views of the city.\\n 2. The Louvre Museum: The Louvre is one of the world's largest and most famous museums, housing an impressive collection of art and artifacts, including the Mona Lisa.\\n 3. Notre-Dame Cathedral: This beautiful cathedral is one of the most famous landmarks in Paris and is known for its Gothic architecture and stunning stained glass windows.\\n \\n These are just a few of the many attractions that Paris has to offer. With so much to see and do, it's no wonder that Paris is one of the most popular tourist destinations in the world.\",\n",
    "        },\n",
    "        {\n",
    "            \"role\": \"user\",\n",
    "            \"content\": \"What is so great about #1?\",\n",
    "        }\n",
    "    ],\n",
    "    max_tokens=4096,\n",
    "    temperature=1.0,\n",
    "    top_p=1.0,\n",
    "    model=deployment\n",
    ")\n",
    "\n",
    "print(response.choices[0].message.content)"
   ]
  },
  {
   "cell_type": "markdown",
   "metadata": {},
   "source": [
    "Stream output"
   ]
  },
  {
   "cell_type": "code",
   "execution_count": null,
   "metadata": {},
   "outputs": [],
   "source": [
    "import os\n",
    "from openai import AzureOpenAI\n",
    "\n",
    "# Use environment variables from .env\n",
    "azure_endpoint = os.getenv(\"AZURE_OPENAI_ENDPOINT\")\n",
    "deployment = os.getenv(\"AZURE_OPENAI_DEPLOYMENT_NAME\")\n",
    "api_key = os.getenv(\"AZURE_OPENAI_API_KEY\")\n",
    "api_version = os.getenv(\"AZURE_OPENAI_API_VERSION\")\n",
    "\n",
    "client = AzureOpenAI(\n",
    "    api_version=api_version,\n",
    "    azure_endpoint=azure_endpoint,\n",
    "    api_key=api_key,\n",
    ")\n",
    "\n",
    "response = client.chat.completions.create(\n",
    "    stream=True,\n",
    "    messages=[\n",
    "        {\n",
    "            \"role\": \"system\",\n",
    "            \"content\": \"You are a helpful assistant.\",\n",
    "        },\n",
    "        {\n",
    "            \"role\": \"user\",\n",
    "            \"content\": \"I am going to Paris, what should I see?\",\n",
    "        }\n",
    "    ],\n",
    "    max_tokens=4096,\n",
    "    temperature=1.0,\n",
    "    top_p=1.0,\n",
    "    model=deployment,\n",
    ")\n",
    "\n",
    "for update in response:\n",
    "    if update.choices:\n",
    "        print(update.choices[0].delta.content or \"\", end=\"\")\n",
    "\n",
    "client.close()"
   ]
  },
  {
   "cell_type": "code",
   "execution_count": null,
   "metadata": {},
   "outputs": [],
   "source": []
  },
  {
   "cell_type": "markdown",
   "metadata": {},
   "source": [
    "### Azure AI Inference SDK\n",
    "\n",
    "pip install azure-ai-inference"
   ]
  },
  {
   "cell_type": "code",
   "execution_count": null,
   "metadata": {},
   "outputs": [],
   "source": [
    "import os\n",
    "from azure.ai.inference import ChatCompletionsClient\n",
    "from azure.ai.inference.models import SystemMessage, UserMessage\n",
    "from azure.core.credentials import AzureKeyCredential\n",
    "from dotenv import load_dotenv\n",
    "\n",
    "# Load environment variables from .env file\n",
    "load_dotenv()\n",
    "\n",
    "endpoint = os.getenv(\"AZURE_OPENAI_ENDPOINT\")\n",
    "model_name = os.getenv(\"AZURE_OPENAI_MODEL_NAME\", \"gpt-4o\")\n",
    "\n",
    "client = ChatCompletionsClient(\n",
    "    endpoint=endpoint,\n",
    "    credential=AzureKeyCredential(os.getenv(\"AZURE_OPENAI_API_KEY\")),\n",
    ")\n",
    "\n",
    "response = client.complete(\n",
    "    messages=[\n",
    "        SystemMessage(content=\"You are a helpful assistant.\"),\n",
    "        UserMessage(content=\"I am going to Paris, what should I see?\")\n",
    "    ],\n",
    "    max_tokens=4096,\n",
    "    temperature=1.0,\n",
    "    top_p=1.0,\n",
    "    model=model_name\n",
    ")\n",
    "\n",
    "print(response.choices[0].message.content)"
   ]
  },
  {
   "cell_type": "code",
   "execution_count": null,
   "metadata": {},
   "outputs": [],
   "source": []
  },
  {
   "cell_type": "code",
   "execution_count": null,
   "metadata": {},
   "outputs": [],
   "source": []
  },
  {
   "cell_type": "markdown",
   "metadata": {},
   "source": [
    "# Local"
   ]
  },
  {
   "cell_type": "markdown",
   "metadata": {},
   "source": [
    "## Ollama"
   ]
  },
  {
   "cell_type": "markdown",
   "metadata": {},
   "source": [
    "Simple"
   ]
  },
  {
   "cell_type": "code",
   "execution_count": 16,
   "metadata": {},
   "outputs": [
    {
     "name": "stdout",
     "output_type": "stream",
     "text": [
      " (Blue, in astronomy)\n",
      "A question to consider. Is it Blue a) or Blue b)?\n",
      "If your are curious enough to ask it\n",
      "\"Is this something wrong with you or am I my mother's brother's wife?\" I don't know the answer.\n",
      " (Blue, in astronomy)\n",
      "A question to consider. Is it Blue a) or Blue b)?\n",
      "If your are curious enough to ask it\n",
      "\"Is this something wrong with you or am I my mother's brother's wife?\" I don't know the answer.\n"
     ]
    }
   ],
   "source": [
    "from ollama import chat\n",
    "from ollama import ChatResponse\n",
    "\n",
    "model = \"llama3.2:1b-text-q2_K\" # base model\n",
    "# model = \"llama3.2:1b\" # instruct model\n",
    "\n",
    "response: ChatResponse = chat(model=model, messages=[\n",
    "  {\n",
    "    'role': 'user',\n",
    "    'content': 'Why is the sky blue?',\n",
    "  },\n",
    "])\n",
    "print(response['message']['content'])\n",
    "# or access fields directly from the response object\n",
    "print(response.message.content)"
   ]
  },
  {
   "cell_type": "markdown",
   "metadata": {},
   "source": [
    "Streaming"
   ]
  },
  {
   "cell_type": "code",
   "execution_count": 17,
   "metadata": {},
   "outputs": [
    {
     "name": "stdout",
     "output_type": "stream",
     "text": [
      " Why don’t we see black?\n",
      "You can learn to see color, and that’s important. But you have a right to be skeptical of someone who has a “PhD in Physics” (PhD) or an MSc with an M.\n",
      "“M” for something – anything will do as a placeholder here."
     ]
    }
   ],
   "source": [
    "from ollama import chat\n",
    "\n",
    "stream = chat(\n",
    "    model=model,\n",
    "    messages=[{'role': 'user', 'content': 'Why is the sky blue?'}],\n",
    "    stream=True,\n",
    ")\n",
    "\n",
    "for chunk in stream:\n",
    "  print(chunk['message']['content'], end='', flush=True)"
   ]
  },
  {
   "cell_type": "code",
   "execution_count": null,
   "metadata": {},
   "outputs": [],
   "source": []
  },
  {
   "cell_type": "markdown",
   "metadata": {},
   "source": [
    "## Transformers"
   ]
  },
  {
   "cell_type": "markdown",
   "metadata": {},
   "source": [
    "llama3.2 1b instruct"
   ]
  },
  {
   "cell_type": "code",
   "execution_count": null,
   "metadata": {},
   "outputs": [
    {
     "name": "stderr",
     "output_type": "stream",
     "text": [
      "Device set to use cuda:0\n",
      "Setting `pad_token_id` to `eos_token_id`:128001 for open-end generation.\n"
     ]
    },
    {
     "name": "stdout",
     "output_type": "stream",
     "text": [
      "\n",
      "ANSWER:\n",
      "Deciding whether to move to Scandinavia depends on various factors, including your personal preferences, career goals, and priorities. Here are some points to consider:\n",
      "\n",
      "Pros of moving to Scandinavia:\n",
      "\n",
      "1. **High quality of life**: Scandinavia is known for its excellent social welfare system, high standard of living, and stunning natural beauty.\n",
      "2. **Work-life balance**: Scandinavian countries prioritize work-life balance, with generous parental leave policies, flexible working hours, and a focus on employee well-being.\n",
      "3. **Career opportunities**: Scandinavia is home to many top-ranked universities, research institutions, and companies in various industries, including technology, healthcare, and finance.\n",
      "4. **Language**: While English is widely spoken in Scandinavia, many people in the region speak Scandinavian languages, which can be a great opportunity to learn and connect with the local culture.\n",
      "5. **Nature and outdoor activities**: Scandinavia is famous for its breathtaking landscapes, with plenty of opportunities for hiking, skiing, and other outdoor activities.\n",
      "6. **Cultural diversity**: Scandinavia is a melting pot of cultures, with a rich history and a strong sense of community.\n",
      "\n",
      "Cons of moving to Scandinavia:\n",
      "\n",
      "1. **Language barrier**: While many Scandinavians speak English, you may still encounter some language challenges, especially outside of major cities.\n",
      "2. **Cost of living**: Scandinavia is generally expensive, with high prices for housing, food, and transportation.\n",
      "3. **Bureaucracy**: Scandinavian countries have a reputation for being bureaucratic, which can take time to adjust to.\n",
      "4. **Weather**: Scandinavia is known for its cold winters and mild summers, which may take some getting used to.\n",
      "5. **Isolation**: Some people may find the remote nature of Scandinavian countries to be isolating.\n",
      "\n",
      "To help you decide, ask yourself:\n",
      "\n",
      "1. **What are your priorities?** Are you looking for a high standard of living, excellent work-life balance, or a unique cultural experience?\n",
      "2. **What are your career goals?** Are you looking for opportunities in a specific industry or location?\n",
      "3. **How important is language to you?** Are you comfortable with the language barrier, or do you prefer a more English-speaking environment?\n",
      "4. **What are your financial priorities?** Are you looking for a cost of living that's within your budget, or are you willing to make some sacrifices for a better lifestyle?\n",
      "\n",
      "Ultimately, the decision to move to Scandinavia depends on your individual circumstances and priorities. If you're considering making the move, I recommend researching the specific region you're interested in, talking to expats and locals, and weighing the pros and cons carefully.\n",
      "\n",
      "Which Scandinavian country are you interested in moving to?\n"
     ]
    }
   ],
   "source": [
    "from transformers import pipeline\n",
    "import torch\n",
    "\n",
    "device = torch.device(\"cuda\" if torch.cuda.is_available() else \"cpu\")\n",
    "\n",
    "model_id = \"meta-llama/Llama-3.2-1B-Instruct\" # instruct model\n",
    "\n",
    "pipe = pipeline(\n",
    "    \"text-generation\",\n",
    "    model=model_id,\n",
    "    device_map=\"auto\",\n",
    "    # device_map=device\n",
    ")\n",
    "messages = [\n",
    "    {\"role\": \"system\", \"content\": \"You are a helpful assistant.\"},\n",
    "    {\"role\": \"user\", \"content\": \"Should I move to Scandinavia?\"},\n",
    "]\n",
    "outputs = pipe(\n",
    "    messages,\n",
    "    max_new_tokens=1024,\n",
    "    do_sample=True\n",
    ")\n",
    "print(\"\\nANSWER:\")\n",
    "print(outputs[0][\"generated_text\"][-1]['content'])"
   ]
  },
  {
   "cell_type": "markdown",
   "metadata": {},
   "source": [
    "llama3.2 1b base"
   ]
  },
  {
   "cell_type": "code",
   "execution_count": 2,
   "metadata": {},
   "outputs": [
    {
     "name": "stderr",
     "output_type": "stream",
     "text": [
      "Setting `pad_token_id` to `eos_token_id`:128001 for open-end generation.\n"
     ]
    },
    {
     "name": "stdout",
     "output_type": "stream",
     "text": [
      "\n",
      "ANSWER:\n",
      "Should I move to Scandinavia? Or should I stay in the US? Or should I stay in Europe?\n",
      "These are some of the most common questions that people ask me. The answer is: It depends.\n",
      "The answer to the question “Should I move to Scandinavia?” depends on your situation. If you are looking for a low-cost and low-stress way to retire in a safe and welcoming environment, Scandinavia is a great option. But if you are looking for a more active lifestyle, then Europe is a better option.\n",
      "If you are looking for a safe and welcoming environment, Scandinavia is a great option. The Scandinavian countries are generally safe, and there are a number of things you can do to protect yourself and your belongings. In addition, Scandinavia is a great place to live if you want to be close to nature and have access to a variety of outdoor activities.\n",
      "If you are looking for a low-cost and low-stress way to retire in a safe and welcoming environment, Scandinavia is a great option. However, if you are looking for a more active lifestyle, then Europe is a better option. Europe has a more active lifestyle, and there are a number of things you can do to protect yourself and your belongings.\n",
      "If you are looking for a low-cost and low-stress way to retire in a safe and welcoming environment, Scandinavia is a great option. However, if you are looking for a more active lifestyle, then Europe is a better option. Europe has a more active lifestyle, and there are a number of things you can do to protect yourself and your belongings.\n",
      "If you are looking for a low-cost and low-stress way to retire in a safe and welcoming environment, Scandinavia is a great option. However, if you are looking for a more active lifestyle, then Europe is a better option. Europe has a more active lifestyle, and there are a number of things you can do to protect yourself and your belongings.\n",
      "If you are looking for a low-cost and low-stress way to retire in a safe and welcoming environment, Scandinavia is a great option. However, if you are looking for a more active lifestyle, then Europe is a better option. Europe has a more active lifestyle, and there are a number of things you can do to protect yourself and your belongings.\n",
      "If you are looking for a low-cost and low-stress way to retire in a safe and welcoming environment, Scandinavia is a great option. However, if you are looking for a more active lifestyle, then Europe is a better option. Europe has a more active lifestyle, and there are a number of things you can do to protect yourself and your belongings.\n",
      "If you are looking for a low-cost and low-stress way to retire in a safe and welcoming environment, Scandinavia is a great option. However, if you are looking for a more active lifestyle, then Europe is a better option. Europe has a more active lifestyle, and there are a number of things you can do to protect yourself and your belongings.\n",
      "If you are looking for a low-cost and low-stress way to retire in a safe and welcoming environment, Scandinavia is a great option. However, if you are looking for a more active lifestyle, then Europe is a better option. Europe has a more active lifestyle, and there are a number of things you can do to protect yourself and your belongings.\n",
      "If you are looking for a low-cost and low-stress way to retire in a safe and welcoming environment, Scandinavia is a great option. However, if you are looking for a more active lifestyle, then Europe is a better option. Europe has a more active lifestyle, and there are a number of things you can do to protect yourself and your belongings.\n",
      "If you are looking for a low-cost and low-stress way to retire in a safe and welcoming environment, Scandinavia is a great option. However, if you are looking for a more active lifestyle, then Europe is a better option. Europe has a more active lifestyle, and there are a number of things you can do to protect yourself and your belongings.\n",
      "If you are looking for a low-cost and low-stress way to retire in a safe and welcoming environment, Scandinavia is a great option. However, if you are looking for a more active lifestyle, then Europe is a better option. Europe has a more active lifestyle, and there are a number of things you can do to protect yourself and your belongings.\n",
      "If you are looking for a low-cost and low-stress way to retire in a safe and welcoming environment, Scandinavia is a great option. However, if you are looking for a more active lifestyle, then Europe is a better option. Europe has a more active lifestyle, and there are a number of things you can do to protect yourself and your belongings.\n",
      "If you are looking for a low-cost and low-stress way to retire in a safe and welcoming environment, Scandinavia is a great option. However, if you are looking for a more active lifestyle, then Europe is a better option. Europe has a more active lifestyle, and there are a number of\n"
     ]
    }
   ],
   "source": [
    "from transformers import AutoModelForCausalLM, AutoTokenizer\n",
    "import torch\n",
    "\n",
    "device = torch.device(\"cuda\" if torch.cuda.is_available() else \"cpu\")\n",
    "\n",
    "# Use the base model instead of the instruct version\n",
    "model_id = \"meta-llama/Llama-3.2-1B\"\n",
    "\n",
    "# Load the model and tokenizer directly instead of using pipeline\n",
    "tokenizer = AutoTokenizer.from_pretrained(model_id)\n",
    "model = AutoModelForCausalLM.from_pretrained(\n",
    "    model_id,\n",
    "    torch_dtype=torch.float16,\n",
    "    device_map=\"auto\"\n",
    ")\n",
    "\n",
    "# For base models, we use raw text input instead of chat messages\n",
    "prompt = \"Should I move to Scandinavia?\"\n",
    "\n",
    "# Tokenize the input\n",
    "inputs = tokenizer(prompt, return_tensors=\"pt\").to(device)\n",
    "\n",
    "# Generate the output\n",
    "outputs = model.generate(\n",
    "    **inputs,\n",
    "    max_new_tokens=1024,\n",
    "    do_sample=True,\n",
    "    temperature=0.7,\n",
    "    top_p=0.9\n",
    ")\n",
    "\n",
    "# Decode and print the result\n",
    "generated_text = tokenizer.decode(outputs[0], skip_special_tokens=True)\n",
    "print(\"\\nANSWER:\")\n",
    "print(generated_text)"
   ]
  },
  {
   "cell_type": "code",
   "execution_count": null,
   "metadata": {},
   "outputs": [],
   "source": []
  },
  {
   "cell_type": "code",
   "execution_count": null,
   "metadata": {},
   "outputs": [],
   "source": []
  },
  {
   "cell_type": "code",
   "execution_count": null,
   "metadata": {},
   "outputs": [],
   "source": []
  },
  {
   "cell_type": "code",
   "execution_count": null,
   "metadata": {},
   "outputs": [],
   "source": []
  },
  {
   "cell_type": "code",
   "execution_count": null,
   "metadata": {},
   "outputs": [],
   "source": []
  },
  {
   "cell_type": "code",
   "execution_count": null,
   "metadata": {},
   "outputs": [],
   "source": []
  }
 ],
 "metadata": {
  "kernelspec": {
   "display_name": "research",
   "language": "python",
   "name": "python3"
  },
  "language_info": {
   "codemirror_mode": {
    "name": "ipython",
    "version": 3
   },
   "file_extension": ".py",
   "mimetype": "text/x-python",
   "name": "python",
   "nbconvert_exporter": "python",
   "pygments_lexer": "ipython3",
   "version": "3.11.11"
  }
 },
 "nbformat": 4,
 "nbformat_minor": 2
}
